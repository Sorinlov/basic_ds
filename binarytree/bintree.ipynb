{
 "cells": [
  {
   "cell_type": "code",
   "execution_count": 1,
   "metadata": {
    "collapsed": true
   },
   "outputs": [],
   "source": [
    "#---------------------二叉树节点实现 指针记录节点位置-----------------------------\n",
    "N = 100005\n",
    "class node:\n",
    "    def __init__(self):\n",
    "        self.val = 0\n",
    "        self.l = 0\n",
    "        self.r = 0"
   ]
  },
  {
   "cell_type": "code",
   "execution_count": 2,
   "metadata": {
    "collapsed": true
   },
   "outputs": [],
   "source": [
    "t = [node() for i in range(N)] #t[1]始终为根节点"
   ]
  },
  {
   "cell_type": "code",
   "execution_count": 3,
   "metadata": {
    "collapsed": true
   },
   "outputs": [],
   "source": [
    "root, cnt = 0, 0  #cnt为全局变量，记录了t数组中一共有多少个node  #root仅记录根节点"
   ]
  },
  {
   "cell_type": "code",
   "execution_count": 4,
   "metadata": {
    "collapsed": true
   },
   "outputs": [],
   "source": [
    "#排序二叉树的插入方法 \n",
    "def insert(v, x):\n",
    "    if x == 0:\n",
    "        global cnt\n",
    "        cnt += 1\n",
    "        x = cnt\n",
    "        t[x].val = v\n",
    "        return x\n",
    "    #仅当在插入节点的时候，cnt才会+1\n",
    "    #若在构建之后再执行插入操作，cnt并非=0，而是t中的node数\n",
    "    \n",
    "    if t[x].val > v:\n",
    "        t[x].l = insert(v, t[x].l)#此时传入的t[x].l为0 而且若是初始构建插入一个序列，一直都为0\n",
    "    else:                         #若t[x].l不为0 则向下搜寻，不断判断左右子节点，一直到叶节点\n",
    "        t[x].r = insert(v, t[x].r)\n",
    "    #左右子节点记录的是原本左右子节点在t数组中的下标\n",
    "    return x"
   ]
  },
  {
   "cell_type": "code",
   "execution_count": 9,
   "metadata": {
    "collapsed": true
   },
   "outputs": [],
   "source": [
    "s = [2,6,9,3,5,7,10,8,4，1]\n",
    "for i in range(len(s)): \n",
    "    root = insert(s[i], root)"
   ]
  },
  {
   "cell_type": "code",
   "execution_count": 7,
   "metadata": {
    "collapsed": true
   },
   "outputs": [],
   "source": [
    "#先序遍历\n",
    "def dlr(x, ans):\n",
    "    if x != 0:\n",
    "        ans.append(t[x].val)\n",
    "        dlr(t[x].l, ans)\n",
    "        dlr(t[x].r, ans)\n",
    "\n",
    "#后序遍历\n",
    "def lrd(x, ans):\n",
    "    if x != 0:\n",
    "        dlr(t[x].l, ans)\n",
    "        dlr(t[x].r, ans)\n",
    "        ans.append(t[x].val)\n",
    "\n",
    "#中序遍历\n",
    "def ldr(x, ans):\n",
    "    if x != 0:\n",
    "        ldr(t[x].l, ans)\n",
    "        ans.append(t[x].val)\n",
    "        ldr(t[x].r, ans)\n",
    "\n",
    "#宽度优先遍历\n",
    "def wide(x):\n",
    "    if x == 0:\n",
    "        return []\n",
    "    q = [x]\n",
    "    r = []\n",
    "    while q:\n",
    "        index = q.pop(0)\n",
    "        r.append(t[index].val)\n",
    "        if t[index].l ！= 0:\n",
    "            q.append(t[index].l)\n",
    "        if t[index].r ！= 0:\n",
    "            q.append(t[index].r)\n",
    "    return r"
   ]
  },
  {
   "cell_type": "code",
   "execution_count": 8,
   "metadata": {
    "collapsed": true
   },
   "outputs": [],
   "source": [
    "ans = []\n",
    "dlr(root, ans)\n",
    "lrd(root, ans)"
   ]
  },
  {
   "cell_type": "code",
   "execution_count": 1,
   "metadata": {
    "collapsed": true
   },
   "outputs": [],
   "source": [
    "#---------------------------------二叉树类节点实现---------------------------------\n",
    "#version1 python数据结构书\n",
    "#二叉树节点类\n",
    "class BinTNode:\n",
    "    def __init__(self, dat, left = None, right = None):\n",
    "        self.data = dat\n",
    "        self.left = left\n",
    "        self.right = right\n",
    "\n",
    "#\n",
    "t = BinTNode(1, BinTNode(2), BinTNode(3))"
   ]
  },
  {
   "cell_type": "code",
   "execution_count": 5,
   "metadata": {
    "collapsed": true
   },
   "outputs": [],
   "source": [
    "# 统计树中节点个数：\n",
    "def count_BinTNode(t):\n",
    "    if t == None:\n",
    "        return 0\n",
    "    else:\n",
    "        return 1+ count_BinTNode(t.left)+ count_BinTNode(t.right)\n",
    "\n",
    "# 统计树中节点的值总和：\n",
    "def sum_BinTNode(t):\n",
    "    if t == None:\n",
    "        return 0\n",
    "    else:\n",
    "        return t.data + sum_BinTNode(t.left) + sum_BinTNode(t.right)"
   ]
  },
  {
   "cell_type": "code",
   "execution_count": 6,
   "metadata": {
    "collapsed": true
   },
   "outputs": [],
   "source": [
    "class BinTree:\n",
    "    def __init__(self):\n",
    "        self._root = None\n",
    "    \n",
    "    def is_empty(self):\n",
    "        return self._root is None\n",
    "    \n",
    "    def root(self):\n",
    "        return self._root\n",
    "    \n",
    "    def leftchild(self):\n",
    "        return self.root.left \n",
    "    \n",
    "    def rightchild(self):\n",
    "        return self.root.right\n",
    "    \n",
    "    def set_root(self, rootnode):\n",
    "        self._root = rootnode\n",
    "    \n",
    "    def set_left(self, leftchild):\n",
    "        self._root.left = leftchild\n",
    "        \n",
    "    def set_right(self, rihgtchild):\n",
    "        self._root.right = rightchild\n"
   ]
  },
  {
   "cell_type": "code",
   "execution_count": 7,
   "metadata": {
    "collapsed": true
   },
   "outputs": [],
   "source": [
    "#version2 csdn博客\n",
    "#具有插入功能的二叉树类\n",
    "class BinaryTree(object):\n",
    "    \n",
    "    def __init__(self, item):\n",
    "        self.key = item\n",
    "        self.left = None\n",
    "        self.right = None\n",
    "    \n",
    "    def insertLeft(self,item):\n",
    "        if self.left == None:\n",
    "            self.left = BinaryTree(item)\n",
    "        else:\n",
    "            t = BinaryTree(item)\n",
    "            t.left = self.left\n",
    "            self.left = t\n",
    "    \n",
    "    def insertright(self, item):\n",
    "        if self.right == None:\n",
    "            self.right = BinaryTree(item)\n",
    "        else:\n",
    "            t = BinaryTree(item)\n",
    "            t.right = self.right\n",
    "            self.right = t"
   ]
  },
  {
   "cell_type": "code",
   "execution_count": 26,
   "metadata": {
    "collapsed": true
   },
   "outputs": [],
   "source": [
    "#version3 知乎 这尼玛建立的是个二叉排序树\n",
    "class Node:\n",
    "    def __inti__(self, value, left = None, right = None):\n",
    "        self.value = value\n",
    "        self.left = left\n",
    "        self.right = right"
   ]
  },
  {
   "cell_type": "code",
   "execution_count": 27,
   "metadata": {
    "collapsed": true
   },
   "outputs": [],
   "source": [
    "from collections import Iterable\n",
    "\n",
    "class BinaryTree:\n",
    "    def __init__(self, seq = ()): #seq默认值为一个空元组\n",
    "        assert isinstance(seq, Iterable) #确保输入的参数为可迭代对象\n",
    "        self.root = None\n",
    "        self.insert(*seq) # 将序列seq中的每个元素当作位置参数传进去\n",
    "    \n",
    "    #此插入方法依旧是二叉排序树的插入方法\n",
    "    #其实应该是平衡二叉树的构建方法\n",
    "    def insert(self, *args):\n",
    "        if not args:\n",
    "            return\n",
    "        if not self.root:\n",
    "            self.root = Node(args[0])\n",
    "            args = args[1:]\n",
    "        for i in args:\n",
    "            #seed起到指针作用\n",
    "            #插入每一个i时，从根节点向下遍历\n",
    "            seed = self.root\n",
    "            while Ture:\n",
    "                if i > seed.value:\n",
    "                    if not seed.right:  #当前节点右孩子为空\n",
    "                        node = Node(i)\n",
    "                        seed.right = node\n",
    "                        break\n",
    "                    else:\n",
    "                        seed = seed.right #遍历找到插入位置\n",
    "                else:\n",
    "                    if not seed.left:\n",
    "                        node = Node(i)\n",
    "                        seed.left = node\n",
    "                        break\n",
    "                    else:\n",
    "                        seed = seed.left\n",
    "    def minNode(self):\n",
    "        node = self.root\n",
    "        while node.left:\n",
    "            node = node.left\n",
    "        return node\n",
    "    \n",
    "    def maxNode(self):\n",
    "        node = self.root\n",
    "        while node.right:\n",
    "            node = node.right\n",
    "        return node\n",
    "    \n",
    "    def find(self, item):\n",
    "        node = self.root\n",
    "        while node:\n",
    "            if item < node.value:\n",
    "                node = node.left\n",
    "            elif item > node.value:\n",
    "                node = node.right\n",
    "            else:\n",
    "                break\n",
    "        return node"
   ]
  },
  {
   "cell_type": "code",
   "execution_count": 23,
   "metadata": {
    "collapsed": true
   },
   "outputs": [],
   "source": [
    "#==============================Review=================================\n",
    "#============二叉树类结点 存储于数组中 指针记录节点位置===============\n",
    "#bintreebode\n",
    "class node():\n",
    "    def __init__(self):\n",
    "        self.val = None\n",
    "        self.l = None\n",
    "        self.r = None"
   ]
  },
  {
   "cell_type": "code",
   "execution_count": 24,
   "metadata": {
    "collapsed": true
   },
   "outputs": [],
   "source": [
    "N = 10005\n",
    "t = [node() for i in range(N)]\n",
    "root = None; cnt = 0"
   ]
  },
  {
   "cell_type": "code",
   "execution_count": 25,
   "metadata": {
    "collapsed": true
   },
   "outputs": [],
   "source": [
    "def insert(val, x):\n",
    "    if x == None:\n",
    "        global cnt\n",
    "        cnt += 1\n",
    "        x = cnt\n",
    "        t[x].val = val\n",
    "        return x\n",
    "    if t[x].val > val:\n",
    "        t[x].l = insert(val, t[x].l)\n",
    "    else:\n",
    "        t[x].r = insert(val, t[x].r)\n",
    "    return x"
   ]
  },
  {
   "cell_type": "code",
   "execution_count": 26,
   "metadata": {},
   "outputs": [],
   "source": [
    "s = [2,6,9,3,5,7,10,8,4,1]\n",
    "for i in s:\n",
    "    root = insert(i, root)"
   ]
  },
  {
   "cell_type": "code",
   "execution_count": 30,
   "metadata": {
    "collapsed": true
   },
   "outputs": [],
   "source": [
    "#深度优先遍历\n",
    "#中序遍历\n",
    "def ldr(x, ans):\n",
    "    if x != None:\n",
    "        ldr(t[x].l, ans)\n",
    "        ans.append(t[x].val)\n",
    "        ldr(t[x].r, ans)"
   ]
  },
  {
   "cell_type": "code",
   "execution_count": 31,
   "metadata": {},
   "outputs": [],
   "source": [
    "ans = []\n",
    "ldr(root, ans)"
   ]
  },
  {
   "cell_type": "code",
   "execution_count": 32,
   "metadata": {},
   "outputs": [
    {
     "data": {
      "text/plain": [
       "[1, 2, 3, 4, 5, 6, 7, 8, 9, 10]"
      ]
     },
     "execution_count": 32,
     "metadata": {},
     "output_type": "execute_result"
    }
   ],
   "source": [
    "ans"
   ]
  },
  {
   "cell_type": "code",
   "execution_count": 42,
   "metadata": {
    "collapsed": true
   },
   "outputs": [],
   "source": [
    "#宽度优先遍历\n",
    "def wide(x):\n",
    "    if x == None:\n",
    "        return []\n",
    "    q = [x]\n",
    "    r = []\n",
    "    while q:\n",
    "        index = q.pop(0)\n",
    "        r.append(t[index].val)\n",
    "        if t[index].l:\n",
    "            q.append(t[index].l)\n",
    "        if t[index].r:\n",
    "            q.append(t[index].r)\n",
    "    return r"
   ]
  },
  {
   "cell_type": "code",
   "execution_count": 43,
   "metadata": {},
   "outputs": [
    {
     "data": {
      "text/plain": [
       "[1]"
      ]
     },
     "execution_count": 43,
     "metadata": {},
     "output_type": "execute_result"
    }
   ],
   "source": [
    "wide(1)"
   ]
  },
  {
   "cell_type": "code",
   "execution_count": 7,
   "metadata": {
    "collapsed": true
   },
   "outputs": [],
   "source": [
    "#==========================构建编号二叉树===========================\n",
    "#bintreenode\n",
    "class node():\n",
    "    def __init__(self):\n",
    "        self.val = 0\n",
    "        self.l = 0\n",
    "        self.r = 0\n",
    "\n",
    "t = [node() for i in range(30)]\n",
    "root = 1; cnt = 0\n",
    "\n",
    "t[1].val = 1\n",
    "cnt += 1\n",
    "def numbertree(root):\n",
    "    if t[root].val > 10:\n",
    "        return\n",
    "    global cnt\n",
    "    \n",
    "    cnt += 1\n",
    "    lindex = cnt\n",
    "    t[root].l = lindex\n",
    "    t[lindex].val = t[root].val*2\n",
    "    \n",
    "    cnt += 1\n",
    "    rindex = cnt\n",
    "    t[root].r = rindex\n",
    "    t[rindex].val = t[root].val*2+1\n",
    "    \n",
    "    numbertree(lindex)\n",
    "    numbertree(rindex)"
   ]
  },
  {
   "cell_type": "code",
   "execution_count": 8,
   "metadata": {
    "collapsed": true
   },
   "outputs": [],
   "source": [
    "numbertree(root)"
   ]
  },
  {
   "cell_type": "code",
   "execution_count": 9,
   "metadata": {},
   "outputs": [],
   "source": [
    "def wide(x):\n",
    "    if x == 0:\n",
    "        return []\n",
    "    q = [x]\n",
    "    r = []\n",
    "    while q:\n",
    "        index = q.pop(0)\n",
    "        r.append(t[index].val)\n",
    "        if t[index].l != 0:\n",
    "            q.append(t[index].l)\n",
    "        if t[index].r != 0:\n",
    "            q.append(t[index].r)\n",
    "    return r"
   ]
  },
  {
   "cell_type": "code",
   "execution_count": 10,
   "metadata": {},
   "outputs": [
    {
     "data": {
      "text/plain": [
       "[1, 2, 3, 4, 5, 6, 7, 8, 9, 10, 11, 12, 13, 14, 15, 16, 17, 18, 19, 20, 21]"
      ]
     },
     "execution_count": 10,
     "metadata": {},
     "output_type": "execute_result"
    }
   ],
   "source": [
    "wide(1)"
   ]
  },
  {
   "cell_type": "code",
   "execution_count": null,
   "metadata": {
    "collapsed": true
   },
   "outputs": [],
   "source": []
  }
 ],
 "metadata": {
  "kernelspec": {
   "display_name": "Python 3",
   "language": "python",
   "name": "python3"
  },
  "language_info": {
   "codemirror_mode": {
    "name": "ipython",
    "version": 3
   },
   "file_extension": ".py",
   "mimetype": "text/x-python",
   "name": "python",
   "nbconvert_exporter": "python",
   "pygments_lexer": "ipython3",
   "version": "3.6.3"
  }
 },
 "nbformat": 4,
 "nbformat_minor": 2
}
