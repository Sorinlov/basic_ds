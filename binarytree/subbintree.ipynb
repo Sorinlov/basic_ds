{
 "cells": [
  {
   "cell_type": "code",
   "execution_count": 1,
   "metadata": {
    "collapsed": true
   },
   "outputs": [],
   "source": [
    "#输入两棵二叉树A，B，判断B是不是A的子结构\n",
    "#我们约定空树不是任意一个树的子结构"
   ]
  },
  {
   "cell_type": "code",
   "execution_count": null,
   "metadata": {
    "collapsed": true
   },
   "outputs": [],
   "source": [
    "class TreeNode:\n",
    "    def __init__(self, x):\n",
    "        self.val = x\n",
    "        self.left = None\n",
    "        self.right = None\n",
    "\n",
    "class Solution:\n",
    "    def hassubtree(self, r1, r2):\n",
    "        if not r1 or not r2:\n",
    "            return False\n",
    "        return self.is_subtree(r1, r2) or self.hassubtree(r1.left, r2) or self.hassubtree(r1.right, r2)\n",
    "    \n",
    "    def is_subtree(self, A, B):\n",
    "        if not B:\n",
    "            return True\n",
    "        if not A or A.val != B.val:\n",
    "            return False\n",
    "        return self.is_subtree(A.left, B.left) and self.is_subtree(A.right, B.right)"
   ]
  }
 ],
 "metadata": {
  "kernelspec": {
   "display_name": "Python 3",
   "language": "python",
   "name": "python3"
  },
  "language_info": {
   "codemirror_mode": {
    "name": "ipython",
    "version": 3
   },
   "file_extension": ".py",
   "mimetype": "text/x-python",
   "name": "python",
   "nbconvert_exporter": "python",
   "pygments_lexer": "ipython3",
   "version": "3.6.3"
  }
 },
 "nbformat": 4,
 "nbformat_minor": 2
}
